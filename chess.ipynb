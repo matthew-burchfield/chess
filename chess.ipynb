{
 "cells": [
  {
   "cell_type": "code",
   "execution_count": 1,
   "id": "90e52bea",
   "metadata": {},
   "outputs": [],
   "source": [
    "initial_spaces = [['w']*8, ['w']*8, ['']*8, ['']*8, ['']*8, ['']*8, ['b']*8, ['b']*8]\n",
    "empty_board = [['']*8 for _ in range(8)] \n",
    "#empty_board = [[0]*8]*8\n",
    "        \n",
    "class chessboard(object):\n",
    "    \n",
    "    def __init__(self, spaces = initial_spaces):\n",
    "        #white pieces and black pieces will be dictionaries with keys being board tiles and values being pieces in those tiles\n",
    "        for i in range(len(spaces)):\n",
    "            for j in range(len(spaces)):\n",
    "                empty_board[j][i] = spaces[i][j] #want the board to be properly oriented\n",
    "        self.spaces = empty_board\n",
    "        \n",
    "    def isOccupied(self, position, direction):\n",
    "        x, y = position\n",
    "        new_x, new_y = x + direction[0], y + direction[1]\n",
    "        return bool(board.spaces[new_x][new_y])\n",
    "    \n",
    "board = chessboard()"
   ]
  },
  {
   "cell_type": "code",
   "execution_count": 2,
   "id": "85162934",
   "metadata": {},
   "outputs": [],
   "source": [
    "def kill_piece(position):\n",
    "    pieces[position].alive = False"
   ]
  },
  {
   "cell_type": "code",
   "execution_count": 3,
   "id": "bc9ea9b6",
   "metadata": {},
   "outputs": [],
   "source": [
    "#abstract class with methods common to all pieces\n",
    "class chessPiece(object):\n",
    "    \n",
    "    def __init__(self, position, is_white, alive = True): #position must be a tuple\n",
    "        self.position = position\n",
    "        self.alive = alive\n",
    "        self.is_white = is_white\n",
    "        \n",
    "    def move(self, direction):\n",
    "        if not self.alive:\n",
    "            print('That piece has already been taken. Choose a different piece!')\n",
    "        x, y = self.position\n",
    "        new_x, new_y = x + direction[0], y + direction[1]\n",
    "        if any([new_x < 0, new_x > 7, new_y < 0, new_y > 7]):\n",
    "            print('Not a valid move. That would place your piece off the board!')\n",
    "        elif (board.spaces[new_x][new_y] == 'w' and self.is_white) or (board.spaces[new_x][new_y] == 'b' and not self.is_white):\n",
    "            print('Not a valid move. That space is occupied by your own piece!')\n",
    "        else:\n",
    "            return (new_x, new_y)\n",
    "    def is_attacking(self, direction):\n",
    "        new_pos = self.move(direction)\n",
    "        if pieces[new_pos] != '':\n",
    "            if board.isOccupied(self.position, direction) and pieces[new_pos].is_white != self.is_white:\n",
    "                return True\n",
    "            else:\n",
    "                return False\n",
    "        else:\n",
    "            return False\n",
    "        \n",
    "    def do_move(self, direction):\n",
    "        x , y = self.position\n",
    "        new_x, new_y = x + direction[0], y + direction[1]\n",
    "        new_pos = (new_x, new_y)\n",
    "        if self.is_white:\n",
    "                board.spaces[new_x][new_y] = 'w'\n",
    "                board.spaces[x][y] = ''\n",
    "        else:\n",
    "            board.spaces[new_x][new_y] = 'b'\n",
    "            board.spaces[x][y] = ''\n",
    "        return new_pos"
   ]
  },
  {
   "cell_type": "code",
   "execution_count": 4,
   "id": "5b3fbf7e",
   "metadata": {},
   "outputs": [],
   "source": [
    "class whitePawn(chessPiece):\n",
    "    valid_moves = {(0, 1), (0, 2), (1, 1), (-1, 1)}\n",
    "    def __init__(self, position, is_white = True, alive = True, has_moved = False):\n",
    "        super().__init__(position, is_white, alive)\n",
    "        self.has_moved = has_moved\n",
    "        \n",
    "    def whitePawnMove(self, direction):\n",
    "        x, y = self.position #gonna need this at the last step\n",
    "        new_x, new_y= x + direction[0], y + direction[1]\n",
    "        new_pos = super().move(direction) \n",
    "        if direction not in self.valid_moves:\n",
    "            print('That is not a valid move for a pawn! Choose a different move.')\n",
    "        elif direction in {(1, 1), (-1, 1)} and not board.isOccupied(self.position, direction):\n",
    "            print('There\\'s no black piece on that tile. You can\\'t attack.')\n",
    "        #note that the .move() method in the parent class will detect if any attempted move would place the pawn\n",
    "        #on a tile occupied by another white piece\n",
    "        elif direction == (0, 2) and self.has_moved:\n",
    "            print('This pawn has already moved.')\n",
    "        elif direction in {(0, 1), (0, 2)} and board.isOccupied(self.position, direction):\n",
    "            print('That space is already occupied.')\n",
    "        else:\n",
    "            if self.is_attacking(direction):\n",
    "                kill_piece(new_pos)\n",
    "                pieces[new_pos] = pieces[self.position]\n",
    "                pieces[self.position] = ''\n",
    "            self.position = self.do_move(direction) "
   ]
  },
  {
   "cell_type": "code",
   "execution_count": 5,
   "id": "7bb38960",
   "metadata": {},
   "outputs": [],
   "source": [
    "class blackPawn(chessPiece):\n",
    "    valid_moves = {(0, -1), (0, -2), (1, -1), (-1, -1)}\n",
    "    def __init__(self, position, is_white = False, alive = True, has_moved = False):\n",
    "        super().__init__(position, is_white, alive)\n",
    "        self.has_moved = has_moved\n",
    "        \n",
    "    def blackPawnMove(self, direction):\n",
    "        x, y = self.position #gonna need this at the last step\n",
    "        new_x, new_y= x + direction[0], y + direction[1]\n",
    "        new_pos = super().move(direction) \n",
    "        if direction not in self.valid_moves:\n",
    "            print('That is not a valid move for a pawn! Choose a different move.')\n",
    "        elif direction in {(1, -1), (-1, -1)} and not board.isOccupied(self.position, direction):\n",
    "            print('There\\'s no white piece on that tile. You can\\'t attack.')\n",
    "        #note that the .move() method in the parent class will detect if any attempted move would place the pawn\n",
    "        #on a tile occupied by another black piece\n",
    "        elif direction == (0, -2) and not self.has_moved:\n",
    "            print('This pawn has already moved.')\n",
    "        elif direction in {(0, -1), (0, -2)} and board.isOccupied(self.position, direction):\n",
    "            print('That space is already occupied.')\n",
    "        else:\n",
    "            if self.is_attacking(direction):\n",
    "                kill_piece(new_pos)\n",
    "                pieces[new_pos] = pieces[self.position]\n",
    "                pieces[self.position] = ''\n",
    "            self.position = self.do_move(direction) "
   ]
  },
  {
   "cell_type": "code",
   "execution_count": 6,
   "id": "c8194feb",
   "metadata": {},
   "outputs": [],
   "source": [
    "class king(chessPiece):\n",
    "    valid_moves = {(1, 0), (-1, 0), (0, 1), (0, -1), (1, 1), (1, -1), (-1, 1), (-1, -1)}\n",
    "    def __init__(self, position, is_white, alive = True):\n",
    "        super().__init__(position, is_white, alive)\n",
    "        \n",
    "    def is_in_check(self):\n",
    "        return False                      #placeholder\n",
    "    \n",
    "    def kingMove(self, direction):\n",
    "        x, y = self.position\n",
    "        new_x, new_y = x + direction[0], y + direction[1]\n",
    "        new_pos = super().move(direction) \n",
    "        if direction not in self.valid_moves:\n",
    "            print('Not a valid move for a king.')\n",
    "        elif king(new_pos, self.is_white, alive = True).is_in_check():\n",
    "            print('That move would put you in check!')\n",
    "        else:\n",
    "            if self.is_attacking(direction):\n",
    "                kill_piece(new_pos)\n",
    "                pieces[new_pos] = pieces[self.position]\n",
    "                pieces[self.position] = ''\n",
    "            self.position = self.do_move(direction)  "
   ]
  },
  {
   "cell_type": "code",
   "execution_count": 7,
   "id": "68b11b61",
   "metadata": {},
   "outputs": [],
   "source": [
    "class knight(chessPiece):\n",
    "    valid_moves = {(1, 2), (2, 1), (-1, 2), (2, -1), (1, -2), (-2, 1), (-1, -2), (-2, -1)}\n",
    "    def __init__(self, position, is_white, alive = True):\n",
    "        super().__init__(position, is_white, alive)\n",
    "        \n",
    "    def knightMove(self, direction):\n",
    "        x, y = position\n",
    "        new_x, new_y = x + direction[0], y + direction[1]\n",
    "        new_pos = super().move(direction) \n",
    "        if direction not in self.valid_moves:\n",
    "            print('Not a valid move for a knight')\n",
    "        else:\n",
    "            if self.is_attacking(direction):\n",
    "                kill_piece(new_pos)\n",
    "                pieces[new_pos] = pieces[self.position]\n",
    "                pieces[self.position] = ''\n",
    "            self.position = self.do_move(direction)  "
   ]
  },
  {
   "cell_type": "code",
   "execution_count": 8,
   "id": "d4abcf8b",
   "metadata": {},
   "outputs": [],
   "source": [
    "class bishop(chessPiece):\n",
    "    valid_moves = [(a, a) for a in range(1, 8)] + [(-b, -b) for b in range(1, 8)] + [(-c, c) for c in range(1, 8)] + [(d, -d) for d in range(1, 8)]\n",
    "    \n",
    "    def __init__(self, position, is_white, alive = True):\n",
    "        super().__init__(position, is_white, alive)\n",
    "        \n",
    "    def bishopMove(self, direction):\n",
    "        new_pos = super().move(direction)\n",
    "        if direction not in self.valid_moves:\n",
    "            print('Not a valid move for a bishop')\n",
    "        else:\n",
    "            if self.is_attacking(direction):\n",
    "                kill_piece(new_pos)\n",
    "                pieces[new_pos] = pieces[self.position]\n",
    "                pieces[self.position] = ''\n",
    "            self.position = self.do_move(direction)  "
   ]
  },
  {
   "cell_type": "code",
   "execution_count": 9,
   "id": "5de40b49",
   "metadata": {},
   "outputs": [],
   "source": [
    "class rook(chessPiece):\n",
    "    valid_moves = [(0, a) for a in range(1, 8)] + [(a, 0) for a in range(1, 8)] + [(0, -a) for a in range(1, 8)] + [(-a, 0) for a in range(1, 8)]\n",
    "    \n",
    "    def __init__(self, position, is_white, alive = True):\n",
    "        super().__init__(position, is_white, alive)\n",
    "        \n",
    "    def rookMove(self, direction):\n",
    "        new_pos = super().move(direction)\n",
    "        if direction not in self.valid_moves:\n",
    "            print('Not a valid move for a rook')\n",
    "        else:\n",
    "            if self.is_attacking(direction):\n",
    "                kill_piece(new_pos)\n",
    "                pieces[new_pos] = pieces[self.position]\n",
    "                pieces[self.position] = ''\n",
    "            self.position = self.do_move(direction)"
   ]
  },
  {
   "cell_type": "code",
   "execution_count": 14,
   "id": "eeafcad1",
   "metadata": {},
   "outputs": [],
   "source": [
    "class queen(chessPiece):\n",
    "    valid_moves1 = [(a, a) for a in range(1, 8)] + [(-b, -b) for b in range(1, 8)] + [(-c, c) for c in range(1, 8)] + [(d, -d) for d in range(1, 8)]\n",
    "    valid_moves2 = [(0, a) for a in range(1, 8)] + [(a, 0) for a in range(1, 8)] + [(0, -a) for a in range(1, 8)] + [(-a, 0) for a in range(1, 8)]\n",
    "    valid_moves = valid_moves1 + valid_moves2\n",
    "    \n",
    "    def __init__(self, position, is_white, alive = True):\n",
    "        super().__init__(position, is_white, alive)\n",
    "        \n",
    "    def queenMove(self, direction):\n",
    "        new_pos = super().move(direction)\n",
    "        if direction not in self.valid_moves:\n",
    "            print('Not a valid move for a queen')\n",
    "        else:\n",
    "            if self.is_attacking(direction):\n",
    "                kill_piece(new_pos)\n",
    "                pieces[new_pos] = pieces[self.position]\n",
    "                pieces[self.position] = ''\n",
    "            self.position = self.do_move(direction) "
   ]
  },
  {
   "cell_type": "code",
   "execution_count": 11,
   "id": "2bbb1959",
   "metadata": {},
   "outputs": [],
   "source": [
    "pieces = dict()\n",
    "\n",
    "#white pieces\n",
    "pieces[(0, 0)] = rook((0, 0), is_white = True)\n",
    "pieces[(7, 0)] = rook((7, 0), is_white = True)\n",
    "pieces[(1, 0)] = knight((1, 0), is_white = True)\n",
    "pieces[(6, 0)] = knight((6, 0), is_white = True)\n",
    "pieces[(2, 0)] = bishop((2, 0), is_white = True)\n",
    "pieces[(5, 0)] = bishop((5, 0), is_white = True)\n",
    "pieces[(3, 0)] = queen((3, 0), is_white = True)\n",
    "\n",
    "for i in range(8):\n",
    "    pieces[(i, 1)] = whitePawn((i, 1))\n",
    "    \n",
    "#empty spaces\n",
    "for j in range(2, 6):\n",
    "    for i in range(8):\n",
    "        pieces[(i, j)] = ''\n",
    "    \n",
    "#black pieces\n",
    "pieces[(0, 7)] = rook((0, 0), is_white = False)\n",
    "pieces[(7, 7)] = rook((7, 0), is_white = False)\n",
    "pieces[(1, 7)] = knight((1, 0), is_white = False)\n",
    "pieces[(6, 7)] = knight((6, 0), is_white = False)\n",
    "pieces[(2, 7)] = bishop((2, 0), is_white = False)\n",
    "pieces[(5, 7)] = bishop((5, 0), is_white = False)\n",
    "pieces[(4, 7)] = queen((3, 0), is_white = False)\n",
    "\n",
    "\n",
    "for i in range(8):\n",
    "    pieces[(i, 6)] = blackPawn((i, 6))\n",
    "    \n",
    "white_king = king((4, 0), is_white = True)\n",
    "black_king = king((3, 7), is_white = False)\n",
    "\n",
    "pieces[(4, 0)] = white_king\n",
    "pieces[(3, 7)] = black_king"
   ]
  },
  {
   "cell_type": "code",
   "execution_count": 15,
   "id": "f847de69",
   "metadata": {},
   "outputs": [
    {
     "name": "stdout",
     "output_type": "stream",
     "text": [
      "\n",
      "<__main__.queen object at 0x0000023A0C6FE730>\n"
     ]
    },
    {
     "data": {
      "text/plain": [
       "False"
      ]
     },
     "execution_count": 15,
     "metadata": {},
     "output_type": "execute_result"
    }
   ],
   "source": [
    "board = chessboard()\n",
    "pieces[(1, 1)] = queen((1, 1), is_white = True)\n",
    "pieces[(2, 2)] = rook((2, 2), is_white = False)\n",
    "board.spaces[2][2] = 'b'\n",
    "wq1 = pieces[(1, 1)]\n",
    "br1 = pieces[(2, 2)]\n",
    "wq1.queenMove((1, 1))\n",
    "print(pieces[1, 1])\n",
    "print(pieces[2, 2])\n",
    "br1.alive"
   ]
  },
  {
   "cell_type": "code",
   "execution_count": 16,
   "id": "484d5f0f",
   "metadata": {},
   "outputs": [
    {
     "name": "stdout",
     "output_type": "stream",
     "text": [
      "That piece has already been taken. Choose a different piece!\n",
      "That piece has already been taken. Choose a different piece!\n"
     ]
    }
   ],
   "source": [
    "br1.rookMove((1, 0))"
   ]
  },
  {
   "cell_type": "code",
   "execution_count": null,
   "id": "fd5d5c54",
   "metadata": {},
   "outputs": [],
   "source": []
  },
  {
   "cell_type": "code",
   "execution_count": null,
   "id": "5418296c",
   "metadata": {},
   "outputs": [],
   "source": []
  },
  {
   "cell_type": "code",
   "execution_count": null,
   "id": "5c9a3e7e",
   "metadata": {},
   "outputs": [],
   "source": [
    "\n"
   ]
  },
  {
   "cell_type": "code",
   "execution_count": null,
   "id": "828036c3",
   "metadata": {},
   "outputs": [],
   "source": []
  },
  {
   "cell_type": "code",
   "execution_count": null,
   "id": "11793953",
   "metadata": {},
   "outputs": [],
   "source": []
  },
  {
   "cell_type": "code",
   "execution_count": null,
   "id": "98274e27",
   "metadata": {},
   "outputs": [],
   "source": []
  },
  {
   "cell_type": "code",
   "execution_count": null,
   "id": "3cf82769",
   "metadata": {},
   "outputs": [],
   "source": []
  },
  {
   "cell_type": "code",
   "execution_count": null,
   "id": "92932c88",
   "metadata": {},
   "outputs": [],
   "source": []
  }
 ],
 "metadata": {
  "kernelspec": {
   "display_name": "Python 3 (ipykernel)",
   "language": "python",
   "name": "python3"
  },
  "language_info": {
   "codemirror_mode": {
    "name": "ipython",
    "version": 3
   },
   "file_extension": ".py",
   "mimetype": "text/x-python",
   "name": "python",
   "nbconvert_exporter": "python",
   "pygments_lexer": "ipython3",
   "version": "3.9.13"
  }
 },
 "nbformat": 4,
 "nbformat_minor": 5
}
