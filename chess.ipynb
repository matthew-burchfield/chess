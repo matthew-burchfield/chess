{
 "cells": [
  {
   "cell_type": "code",
   "execution_count": 150,
   "id": "e8d7c532",
   "metadata": {},
   "outputs": [],
   "source": [
    "initial_spaces = [['w']*8, ['w']*8, ['']*8, ['']*8, ['']*8, ['']*8, ['b']*8, ['b']*8]\n",
    "empty_board = [['']*8 for _ in range(8)] \n",
    "#empty_board = [[0]*8]*8\n",
    "        \n",
    "class chessboard(object):\n",
    "    \n",
    "    def __init__(self, spaces = initial_spaces):\n",
    "        for i in range(len(spaces)):\n",
    "            for j in range(len(spaces)):\n",
    "                empty_board[j][i] = spaces[i][j] #want the board to be properly oriented\n",
    "        self.spaces = empty_board\n",
    "        \n",
    "    def isOccupied(self, position, direction):\n",
    "        x, y = position\n",
    "        new_x, new_y = x + direction[0], y + direction[1]\n",
    "        return bool(board.spaces[new_x][new_y])\n",
    "    \n",
    "board = chessboard()"
   ]
  },
  {
   "cell_type": "code",
   "execution_count": 152,
   "id": "cbaa362d",
   "metadata": {},
   "outputs": [
    {
     "data": {
      "text/plain": [
       "[['w', 'w', '', '', '', '', 'b', 'b'],\n",
       " ['w', 'w', '', '', '', '', 'b', 'b'],\n",
       " ['w', 'w', '', '', '', '', 'b', 'b'],\n",
       " ['w', 'w', '', '', '', '', 'b', 'b'],\n",
       " ['w', 'w', '', '', '', '', 'b', 'b'],\n",
       " ['w', 'w', '', '', '', '', 'b', 'b'],\n",
       " ['w', 'w', '', '', '', '', 'b', 'b'],\n",
       " ['w', 'w', '', '', '', '', 'b', 'b']]"
      ]
     },
     "execution_count": 152,
     "metadata": {},
     "output_type": "execute_result"
    }
   ],
   "source": [
    "board.spaces"
   ]
  },
  {
   "cell_type": "markdown",
   "id": "eee2975c",
   "metadata": {},
   "source": [
    "Some ideas:\n",
    "-the chessboard class might be redundant. Can probably accomplish the same task using the configuration class\n",
    "-create abstract class chessPiece(object) with functions isOccupied and northIsClear (for rooks/queens) eastIsClear, diagonalIsClear etc. all other classes can inherit these methods\n",
    "-create vision method in the abstract class\n",
    "\n",
    "Utilize commands and lambda functions to reduce the amount of branching?\n",
    "\n",
    "How to accomplish castling??"
   ]
  },
  {
   "cell_type": "code",
   "execution_count": 26,
   "id": "12409153",
   "metadata": {},
   "outputs": [
    {
     "data": {
      "text/plain": [
       "True"
      ]
     },
     "execution_count": 26,
     "metadata": {},
     "output_type": "execute_result"
    }
   ],
   "source": [
    "board.isOccupied((0, 0), (0, 6))"
   ]
  },
  {
   "cell_type": "code",
   "execution_count": 215,
   "id": "1e1fe4d0",
   "metadata": {},
   "outputs": [],
   "source": [
    "class chessPiece(object):\n",
    "    \n",
    "    def __init__(self, position, is_white, alive = True): #position must be a tuple\n",
    "        self.position = position\n",
    "        self.alive = alive\n",
    "        self.is_white = is_white\n",
    "        \n",
    "    def move(self, direction):\n",
    "        if not self.alive:\n",
    "            print('That piece has already been taken. Choose a different piece!')\n",
    "        x, y = self.position\n",
    "        new_x, new_y = x + direction[0], y + direction[1]\n",
    "        if any([new_x < 0, new_x > 7, new_y < 0, new_y > 7]):\n",
    "            print('Not a valid move. That would place your piece off the board!')\n",
    "        elif (board.spaces[new_x][new_y] == 'w' and self.is_white) or (board.spaces[new_x][new_y] == 'b' and not self.is_white):\n",
    "            print('Not a valid move. That space is occupied by your own piece!')\n",
    "        else:\n",
    "            return (new_x, new_y)\n",
    "        \n",
    "    def do_move(self, direction):\n",
    "        x , y = self.position\n",
    "        new_x, new_y = x + direction[0], y + direction[1]\n",
    "        new_pos = (new_x, new_y)\n",
    "        if self.is_white:\n",
    "                board.spaces[new_x][new_y] = 'w'\n",
    "                board.spaces[x][y] = ''\n",
    "        else:\n",
    "            board.spaces[new_x][new_y] = 'b'\n",
    "            board.spaces[x][y] = ''\n",
    "        return new_pos"
   ]
  },
  {
   "cell_type": "code",
   "execution_count": 191,
   "id": "cba9d9ae",
   "metadata": {},
   "outputs": [],
   "source": [
    "class whitePawn(chessPiece):\n",
    "    valid_moves = {(0, 1), (0, 2), (1, 1), (-1, 1)}\n",
    "    def __init__(self, position, alive = True, is_white = True, has_moved = False):\n",
    "        super().__init__(position, alive, is_white)\n",
    "        self.has_moved = has_moved\n",
    "        \n",
    "    def whitePawnMove(self, direction):\n",
    "        x, y = self.position #gonna need this at the last step\n",
    "        new_x, new_y= x + direction[0], y + direction[1]\n",
    "        new_pos = super().move(direction) \n",
    "        if direction not in self.valid_moves:\n",
    "            print('That is not a valid move for a pawn! Choose a different move.')\n",
    "        elif direction in {(1, 1), (-1, 1)} and not board.isOccupied(self.position, direction):\n",
    "            print('There\\'s no black piece on that tile. You can\\'t attack.')\n",
    "        #note that the .move() method in the parent class will detect if any attempted move would place the pawn\n",
    "        #on a tile occupied by another white piece\n",
    "        elif direction == (0, 2) and not self.has_moved:\n",
    "            print('This pawn has already moved.')\n",
    "        elif direction in {(0, 1), (0, 2)} and board.isOccupied(self.position, direction):\n",
    "            print('That space is already occupied.')\n",
    "        else:\n",
    "            new_pos = super().move(direction)            #still need to add a .kill() method\n",
    "            board.spaces[new_x][new_y] = 'w'\n",
    "            print(new_x, new_y)\n",
    "            board.spaces[x][y] = ''\n",
    "            self.position = new_pos            #at a later stage I might need to revisit this and add a return command\n",
    "            self.has_moved = True"
   ]
  },
  {
   "cell_type": "code",
   "execution_count": 200,
   "id": "3eb7042b",
   "metadata": {
    "scrolled": true
   },
   "outputs": [],
   "source": [
    "class king(chessPiece):\n",
    "    valid_moves = {(1, 0), (-1, 0), (0, 1), (0, -1), (1, 1), (1, -1), (-1, 1), (-1, -1)}\n",
    "    def __init__(self, position, is_white, alive = True):\n",
    "        super().__init__(position, alive, is_white)\n",
    "        \n",
    "    def is_in_check(self):\n",
    "        return False                      #placeholder\n",
    "    \n",
    "    def kingMove(self, direction):\n",
    "        x, y = self.position\n",
    "        new_x, new_y = x + direction[0], y + direction[1]\n",
    "        new_pos = super().move(direction) \n",
    "        if direction not in self.valid_moves:\n",
    "            print('Not a valid move for a king.')\n",
    "        elif king(new_pos, self.is_white, alive = True).is_in_check():\n",
    "            print('That move would put you in check!')\n",
    "        else:\n",
    "            if self.is_white:\n",
    "                board.spaces[new_x][new_y] = 'w'\n",
    "                board.spaces[x][y] = ''\n",
    "            else:\n",
    "                board.spaces[new_x][new_y] = 'b'\n",
    "                board.spaces[x][y] = ''\n",
    "            self.position = new_pos"
   ]
  },
  {
   "cell_type": "code",
   "execution_count": null,
   "id": "f44db997",
   "metadata": {},
   "outputs": [],
   "source": [
    "class knight(chessPiece):\n",
    "    valid_moves = {[1, 2], [2, 1], [-1, 2], [2, -1], [1, -2], [-2, 1], [-1, -2], [-2, -1]}\n",
    "    def __init__(self, position, is_white, alive = True):\n",
    "        super().__init__(position, alive, is_white)\n",
    "        \n",
    "    def knightMove(self, direction):\n",
    "        x, y = position\n",
    "        new_x, new_y = x + direction[0], y + direction[1]\n",
    "        new_pos = super().move(direction) \n",
    "        if direction not in self.valid_moves:\n",
    "            print('Not a valid move for a knight')\n",
    "        else:\n",
    "            if self.is_white:\n",
    "                board.spaces[new_x][new_y] = 'w'\n",
    "                board.spaces[x][y] = ''\n",
    "            else:\n",
    "                board.spaces[new_x][new_y] = 'b'\n",
    "                board.spaces[x][y] = ''\n",
    "            self.position = new_pos"
   ]
  },
  {
   "cell_type": "code",
   "execution_count": 229,
   "id": "2f4438d5",
   "metadata": {},
   "outputs": [],
   "source": [
    "class bishop(chessPiece):\n",
    "    valid_moves = [(a, a) for a in range(1, 8)] + [(-b, -b) for b in range(1, 8)] + [(-c, c) for c in range(1, 8)] + [(d, -d) for d in range(1, 8)]\n",
    "    \n",
    "    def __init__(self, position, is_white, alive = True):\n",
    "        super().__init__(position, alive, is_white)\n",
    "        \n",
    "    def bishopMove(self, direction):\n",
    "        new_pos = super().move(direction)\n",
    "        if direction not in self.valid_moves:\n",
    "            print('Not a valid move for a bishop')\n",
    "        else:\n",
    "            self.position = self.do_move(direction)    "
   ]
  },
  {
   "cell_type": "code",
   "execution_count": 230,
   "id": "f3e73d87",
   "metadata": {},
   "outputs": [
    {
     "data": {
      "text/plain": [
       "(2, 2)"
      ]
     },
     "execution_count": 230,
     "metadata": {},
     "output_type": "execute_result"
    }
   ],
   "source": [
    "board = chessboard()\n",
    "b1 = bishop((1, 3), True)\n",
    "b1.bishopMove((1,-1))\n",
    "b1.position"
   ]
  },
  {
   "cell_type": "code",
   "execution_count": 225,
   "id": "aa4160dd",
   "metadata": {},
   "outputs": [
    {
     "data": {
      "text/plain": [
       "[['w', 'w', '', '', '', '', 'b', 'b'],\n",
       " ['w', '', '', '', '', '', 'b', 'b'],\n",
       " ['w', 'w', 'w', '', '', '', 'b', 'b'],\n",
       " ['w', 'w', '', '', '', '', 'b', 'b'],\n",
       " ['w', 'w', '', '', '', '', 'b', 'b'],\n",
       " ['w', 'w', '', '', '', '', 'b', 'b'],\n",
       " ['w', 'w', '', '', '', '', 'b', 'b'],\n",
       " ['w', 'w', '', '', '', '', 'b', 'b']]"
      ]
     },
     "execution_count": 225,
     "metadata": {},
     "output_type": "execute_result"
    }
   ],
   "source": [
    "board.spaces"
   ]
  },
  {
   "cell_type": "code",
   "execution_count": null,
   "id": "4e0c2a44",
   "metadata": {},
   "outputs": [],
   "source": []
  },
  {
   "cell_type": "code",
   "execution_count": 207,
   "id": "799a7246",
   "metadata": {},
   "outputs": [
    {
     "name": "stdout",
     "output_type": "stream",
     "text": [
      "Not a valid move. That would place your piece off the board!\n"
     ]
    }
   ],
   "source": [
    "k1 = king((4, 0), is_white = True)\n",
    "k1.kingMove((0, -1))\n",
    "k1.position"
   ]
  },
  {
   "cell_type": "code",
   "execution_count": 204,
   "id": "5568d177",
   "metadata": {},
   "outputs": [
    {
     "name": "stdout",
     "output_type": "stream",
     "text": [
      "4 2\n"
     ]
    },
    {
     "data": {
      "text/plain": [
       "(4, 2)"
      ]
     },
     "execution_count": 204,
     "metadata": {},
     "output_type": "execute_result"
    }
   ],
   "source": [
    "wp1 = whitePawn((4, 1))\n",
    "wp1.whitePawnMove((0, 1))\n",
    "wp1.position"
   ]
  },
  {
   "cell_type": "code",
   "execution_count": 208,
   "id": "d85e505a",
   "metadata": {},
   "outputs": [
    {
     "data": {
      "text/plain": [
       "[['w', '', 'w', '', '', '', 'b', 'b'],\n",
       " ['w', 'w', '', '', '', '', 'b', 'b'],\n",
       " ['w', '', 'w', '', '', '', 'b', 'b'],\n",
       " ['w', 'w', '', '', '', '', 'b', 'b'],\n",
       " ['', 'w', 'w', '', '', '', 'b', 'w'],\n",
       " ['w', 'w', '', '', '', '', 'b', 'b'],\n",
       " ['w', 'w', '', '', '', '', 'b', 'b'],\n",
       " ['w', 'w', '', '', '', '', 'b', 'b']]"
      ]
     },
     "execution_count": 208,
     "metadata": {},
     "output_type": "execute_result"
    }
   ],
   "source": [
    "board.spaces"
   ]
  },
  {
   "cell_type": "code",
   "execution_count": null,
   "id": "fb6326df",
   "metadata": {},
   "outputs": [],
   "source": [
    "class whiteKing(object):\n",
    "        \n",
    "    def __init__(self, position, is_alive = True, is_white = True): #position must be a tuple\n",
    "        self.position = position \n",
    "        self.alive = alive\n",
    "        self.has_moved = has_moved\n",
    "    \n",
    "    def move(self, direction): #direction must be a tuple\n",
    "        valid_directions = {(0, 1), (0, -1), (1, 0), (-1, 0), (1, 1), (1, -1), (-1, 1), (-1, -1)}\n",
    "        x, y = self.position\n",
    "        new_x, new_y = x + direction[0], y + direction[1]\n",
    "        \n",
    "        if direction not in valid_directions:\n",
    "            return 'Not a valid move for a king.'\n",
    "        elif\n",
    "        \n",
    "        else:\n",
    "            self.position = (new_x, new_y)"
   ]
  },
  {
   "cell_type": "code",
   "execution_count": null,
   "id": "7503f2c8",
   "metadata": {},
   "outputs": [],
   "source": []
  },
  {
   "cell_type": "code",
   "execution_count": 7,
   "id": "74146eca",
   "metadata": {},
   "outputs": [
    {
     "data": {
      "text/plain": [
       "[['w', 'w', '', '', '', '', 'b', 'b'],\n",
       " ['w', 'w', '', '', '', '', 'b', 'b'],\n",
       " ['w', 'w', '', '', '', '', 'b', 'b'],\n",
       " ['w', 'w', '', '', '', '', 'b', 'b'],\n",
       " ['w', 'w', '', '', '', '', 'b', 'b'],\n",
       " ['w', 'w', '', '', '', '', 'b', 'b'],\n",
       " ['w', 'w', '', '', '', '', 'b', 'b'],\n",
       " ['w', 'w', '', '', '', '', 'b', 'b']]"
      ]
     },
     "execution_count": 7,
     "metadata": {},
     "output_type": "execute_result"
    }
   ],
   "source": [
    "board = chessboard()\n",
    "board.spaces"
   ]
  },
  {
   "cell_type": "code",
   "execution_count": null,
   "id": "ce2066a7",
   "metadata": {},
   "outputs": [],
   "source": [
    "board = chessboard(initial_spaces)\n",
    "board.spaces"
   ]
  },
  {
   "cell_type": "code",
   "execution_count": null,
   "id": "bec1fda9",
   "metadata": {},
   "outputs": [],
   "source": [
    "for i in range(len(initial_spaces)):\n",
    "    for j in range(len(initial_spaces)):\n",
    "        empty_board[j][i] = initial_spaces[i][j] #want the board to be properly oriented"
   ]
  },
  {
   "cell_type": "code",
   "execution_count": null,
   "id": "dadb51be",
   "metadata": {},
   "outputs": [],
   "source": [
    "empty_board[0][2]"
   ]
  },
  {
   "cell_type": "code",
   "execution_count": null,
   "id": "688d1883",
   "metadata": {},
   "outputs": [],
   "source": [
    "board.spaces[0][2]"
   ]
  },
  {
   "cell_type": "code",
   "execution_count": null,
   "id": "c6cd405f",
   "metadata": {},
   "outputs": [],
   "source": []
  }
 ],
 "metadata": {
  "kernelspec": {
   "display_name": "Python 3 (ipykernel)",
   "language": "python",
   "name": "python3"
  },
  "language_info": {
   "codemirror_mode": {
    "name": "ipython",
    "version": 3
   },
   "file_extension": ".py",
   "mimetype": "text/x-python",
   "name": "python",
   "nbconvert_exporter": "python",
   "pygments_lexer": "ipython3",
   "version": "3.9.13"
  }
 },
 "nbformat": 4,
 "nbformat_minor": 5
}
